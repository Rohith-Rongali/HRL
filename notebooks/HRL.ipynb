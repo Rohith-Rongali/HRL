{
  "nbformat": 4,
  "nbformat_minor": 0,
  "metadata": {
    "colab": {
      "provenance": [],
      "collapsed_sections": []
    },
    "kernelspec": {
      "name": "python3",
      "display_name": "Python 3"
    },
    "language_info": {
      "name": "python"
    }
  },
  "cells": [
    {
      "cell_type": "code",
      "execution_count": null,
      "metadata": {
        "id": "P_DODRgW_ZKS"
      },
      "outputs": [],
      "source": [
        "\n",
        "import numpy as np\n",
        "import random\n",
        "import gym\n",
        "from gym.wrappers import Monitor\n",
        "import glob\n",
        "import io\n",
        "import matplotlib.pyplot as plt\n",
        "from IPython.display import HTML\n",
        "import pandas as pd\n",
        "from IPython import display\n",
        "from IPython.display import clear_output\n",
        "from tqdm import tqdm\n",
        "import time\n",
        "from IPython.display import display, clear_output\n",
        "from mpl_toolkits.axes_grid1 import make_axes_locatable\n",
        "import matplotlib.patches as patches"
      ]
    },
    {
      "cell_type": "code",
      "execution_count": null,
      "metadata": {
        "colab": {
          "base_uri": "https://localhost:8080/"
        },
        "id": "fYNA5kiH_esJ",
        "outputId": "d850265c-7c0b-46d9-cc67-ea93853162e6"
      },
      "outputs": [
        {
          "output_type": "stream",
          "name": "stdout",
          "text": [
            "269\n",
            "Number of states: 500\n",
            "Number of actions that an agent can take: 6\n",
            "Action taken: west\n",
            "Transition probability: {'prob': 1.0}\n",
            "Next state: 249\n",
            "Reward recieved: -1\n",
            "Terminal state: False\n",
            "+---------+\n",
            "|R: | : :\u001b[35mG\u001b[0m|\n",
            "| : | : : |\n",
            "| : :\u001b[43m \u001b[0m: : |\n",
            "| | : | : |\n",
            "|\u001b[34;1mY\u001b[0m| : |B: |\n",
            "+---------+\n",
            "  (West)\n"
          ]
        }
      ],
      "source": [
        "\n",
        "#Setting up the environment\n",
        "env = gym.make('Taxi-v3')\n",
        "\n",
        "env.reset()\n",
        "\n",
        "#Current State\n",
        "print(env.s)\n",
        "\n",
        "print (\"Number of states:\", env.nS)\n",
        "\n",
        "# Primitive Actions\n",
        "action = [\"south\", \"north\", \"east\", \"west\",\"pick\",\"drop\"]\n",
        "#correspond to [0,1,2,3] that's actually passed to the environment\n",
        "\n",
        "# R, G, Y, B, 0 , 1, 2, 3 in state decoding\n",
        "# either go left, up, down or right, pickup or dropoff\n",
        "print (\"Number of actions that an agent can take:\", env.nA)\n",
        "\n",
        "# Example Transitions\n",
        "rnd_action = random.randint(0, 5)\n",
        "print (\"Action taken:\", action[rnd_action])\n",
        "next_state, reward, is_terminal, t_prob = env.step(rnd_action)\n",
        "print (\"Transition probability:\", t_prob)\n",
        "print (\"Next state:\", next_state)\n",
        "print (\"Reward recieved:\", reward)\n",
        "print (\"Terminal state:\", is_terminal)\n",
        "env.render()"
      ]
    },
    {
      "cell_type": "code",
      "execution_count": null,
      "metadata": {
        "colab": {
          "base_uri": "https://localhost:8080/"
        },
        "id": "zSceh_4NHWYt",
        "outputId": "62b27837-400a-4a6a-f1ab-b779c33b4a46"
      },
      "outputs": [
        {
          "name": "stdout",
          "output_type": "stream",
          "text": [
            "[0, 4, 2, 1]\n",
            "+---------+\n",
            "|R: | : :\u001b[35m\u001b[43mG\u001b[0m\u001b[0m|\n",
            "| : | : : |\n",
            "| : : : : |\n",
            "| | : | : |\n",
            "|\u001b[34;1mY\u001b[0m| : |B: |\n",
            "+---------+\n",
            "\n"
          ]
        }
      ],
      "source": [
        "env.reset()\n",
        "env.step(0)\n",
        "\n",
        "env.reset()\n",
        "# print(list(env.decode(env.s))[:2])\n",
        "print(list(env.decode(env.s)))\n",
        "env.render()\n",
        "R = [0,0]\n",
        "G = [0,4]\n",
        "Y = [4,0]\n",
        "B = [4,3]"
      ]
    },
    {
      "cell_type": "code",
      "execution_count": null,
      "metadata": {
        "id": "2p77FH-UwUmN",
        "outputId": "e020c20d-5506-424b-869a-f7e4b3f97949"
      },
      "outputs": [
        {
          "name": "stdout",
          "output_type": "stream",
          "text": [
            "+---------+\n",
            "|R: | : :\u001b[35m\u001b[43mG\u001b[0m\u001b[0m|\n",
            "| : | : : |\n",
            "| : : : : |\n",
            "| | : | : |\n",
            "|\u001b[34;1mY\u001b[0m| : |B: |\n",
            "+---------+\n",
            "\n"
          ]
        }
      ],
      "source": [
        "env.render()"
      ]
    },
    {
      "cell_type": "markdown",
      "metadata": {
        "id": "Vc5DlXOhlX7l"
      },
      "source": [
        "We consider the goal state to be either of the four R,G,Y,B. We need a data structure to hold these 4 Q-tables. \n"
      ]
    },
    {
      "cell_type": "code",
      "execution_count": null,
      "metadata": {
        "id": "9hacJEN8R_Bb"
      },
      "outputs": [],
      "source": [
        "\n",
        "seed = 42\n",
        "rg = np.random.RandomState(seed)\n"
      ]
    },
    {
      "cell_type": "code",
      "execution_count": null,
      "metadata": {
        "id": "fzsCPav3p3c7"
      },
      "outputs": [],
      "source": [
        "def plot_Q(Q, message = \"Q plot\"):\n",
        "    \n",
        "    # plt.figure(figsize=(10,10))\n",
        "    fig, ax = plt.subplots(figsize = (10,10))\n",
        "\n",
        "    Q_max = Q.max(-1)\n",
        "    \n",
        "    im = ax.imshow(Q_max)\n",
        "    \n",
        "\n",
        "    \n",
        "    cbar = ax.figure.colorbar(im, ax=ax)\n",
        "    \n",
        "    ax.set_title(message)\n",
        "    #ax.grid(visible = True, which=\"major\", color=\"w\", linestyle='-', linewidth=2)\n",
        "    ax.set_xlim([0, 5])\n",
        "    ax.set_ylim([0,5])\n",
        "    ax.pcolor(Q_max, edgecolors='k', linewidths=1)\n",
        "    #plt.colorbar()\n",
        "    \n",
        "    # plt.colorbar()\n",
        "    def x_direct(a):\n",
        "        if a in [0, 1]:\n",
        "            return 0\n",
        "        return 1 if a == 2 else -1\n",
        "    def y_direct(a):\n",
        "        if a in [2, 3]:\n",
        "            return 0\n",
        "        return 1 if a == 1 else -1\n",
        "    policy = Q.argmax(-1)\n",
        "    policyx = np.vectorize(x_direct)(policy)\n",
        "    policyy = np.vectorize(y_direct)(policy)\n",
        "    idx = np.indices(policy.shape)\n",
        "    ax.quiver(idx[1].ravel()+ 0.5, idx[0].ravel()+0.5, policyx.ravel(), policyy.ravel(), pivot=\"middle\", color='red')\n",
        "    fig.tight_layout()\n",
        "\n",
        "def q_learning(env,goal_state, episodes = 1000, alpha0 = 0.4,  epsilon0 = 0.2, beta = 1, gamma = 0.9, plot_heat = True, print_freq = 100, max_steps = 200):\n",
        "\n",
        "\n",
        "    Q = np.zeros((5,5, 4))  #only first 4 actions allowed\n",
        "\n",
        "    episode_rewards = np.zeros(episodes)\n",
        "    steps_to_completion = np.zeros(episodes)\n",
        "    '''if plot_heat:\n",
        "        clear_output(wait=True)\n",
        "        plot_Q(Q)'''\n",
        "    epsilon = epsilon0\n",
        "    alpha = alpha0\n",
        "    for ep in tqdm(range(episodes)):\n",
        "        tot_reward, steps = 0, 0\n",
        "        \n",
        "        # Reset environment\n",
        "        state_seq = env.reset()\n",
        "        state = list(env.decode(state_seq))[:2]\n",
        "\n",
        "        done = False\n",
        "        while not done:\n",
        "            action = egreedy_policy(Q,state,epsilon)\n",
        "\n",
        "            state_next_seq, reward ,_,_ = env.step(action)\n",
        "\n",
        "            #action_next = np.argmax(Q[state_next])\n",
        "            state_next = list(env.decode(state_next_seq))[:2]\n",
        "\n",
        "            if(state_next == state):\n",
        "              reward += -20\n",
        "\n",
        "            if(state_next == goal_state):\n",
        "              reward += 100\n",
        "            \n",
        "            \n",
        "            # update equation\n",
        "            Q[state[0],state[1], action] += alpha*(reward + gamma*np.max(Q[state_next[0],state_next[1]]) - Q[state[0],state[1], action])\n",
        "                                                    \n",
        "            tot_reward += reward\n",
        "            steps += 1\n",
        "\n",
        "            #How do we know the state index of R,G,Y,B?\n",
        "            if steps == max_steps or state_next == goal_state : done =True\n",
        "            \n",
        "            state = state_next\n",
        "            \n",
        "        \n",
        "        episode_rewards[ep] = tot_reward\n",
        "        steps_to_completion[ep] = steps\n",
        "\n",
        "        \n",
        "        #if (ep+1)%print_freq == 0 and plot_heat:\n",
        "    clear_output(wait=True)\n",
        "    plot_Q(Q, message = \"Episode %d: Reward: %f, Steps: %.2f, Qmax: %.2f, Qmin: %.2f\"%(ep+1, np.mean(episode_rewards[ep-print_freq+1:ep]),\n",
        "                                                                           np.mean(steps_to_completion[ep-print_freq+1:ep]),\n",
        "                                                                           Q.max(), Q.min()))\n",
        "    #display.display( df.T )  \n",
        "    return Q, episode_rewards, steps_to_completion, env"
      ]
    },
    {
      "cell_type": "code",
      "execution_count": null,
      "metadata": {
        "id": "eQhVALqHRYyE"
      },
      "outputs": [],
      "source": [
        "#0-\"south\"\n",
        "#1- \"north\"\n",
        "#2- \"east\"\n",
        "#3- \"west\""
      ]
    },
    {
      "cell_type": "code",
      "execution_count": null,
      "metadata": {
        "id": "481RBgNvRYvf"
      },
      "outputs": [],
      "source": [
        "from IPython.display import Image\n",
        "# alpha = 0.4\n",
        "alpha=  0.19751633358692788\n",
        "epsilon = 0.12233772892858322\n",
        "gamma = 0.9684975038393936\n",
        "\n",
        "R_mat = np.array([[1,3,0,0,0],\n",
        "                  [1,1,0,0,0],\n",
        "                  [1,1,3,3,3],\n",
        "                  [1,1,1,1,1],\n",
        "                  [1,1,1,1,1]])\n",
        "#Image('/content/option_R.png')"
      ]
    },
    {
      "cell_type": "code",
      "execution_count": null,
      "metadata": {
        "id": "ealWsIQc_C6x"
      },
      "outputs": [],
      "source": [
        "\n",
        "Y_mat = np.array([[0,0,0,0,0],\n",
        "                  [0,0,0,0,0],\n",
        "                  [0,3,3,3,3],\n",
        "                  [0,1,1,1,1],\n",
        "                  [0,1,1,1,1]])\n",
        "#Image('/content/option_Y.png')"
      ]
    },
    {
      "cell_type": "code",
      "execution_count": null,
      "metadata": {
        "id": "01QGhL-__CrG"
      },
      "outputs": [],
      "source": [
        "\n",
        "G_mat = np.array([[0,0,2,2,1],\n",
        "                  [0,0,1,1,1],\n",
        "                  [2,2,2,2,1],\n",
        "                  [1,1,1,1,1],\n",
        "                  [1,1,1,1,1]])\n",
        "#Image('/content/option_G.png')"
      ]
    },
    {
      "cell_type": "code",
      "execution_count": null,
      "metadata": {
        "id": "12y1PdViRYsa"
      },
      "outputs": [],
      "source": [
        "\n",
        "B_mat = np.array([[0,0,0,0,0],\n",
        "                  [0,0,0,0,0],\n",
        "                  [2,2,2,0,0],\n",
        "                  [1,1,1,0,0],\n",
        "                  [1,1,1,0,3]])\n",
        "#Image('/content/option_B.png')"
      ]
    },
    {
      "cell_type": "code",
      "execution_count": null,
      "metadata": {
        "id": "g4MRC1p2DZbp"
      },
      "outputs": [],
      "source": [
        "# We are defining four more options here\n",
        "# Option 1 move_to_R \n",
        "# Option 2 move_to_G\n",
        "# Option 3 move_to_Y\n",
        "# Option 4 move_to_B  \n",
        "\n",
        "def move_to_R(env,state):\n",
        "    \n",
        "    ds = list(env.decode(state))[:2]\n",
        "    optdone = False\n",
        "    optact = R_mat[ds[0],ds[1]]\n",
        "    \n",
        "    if (ds == [0,0]):    #termination condition\n",
        "        optdone = True\n",
        "    \n",
        "    return [optact,optdone]\n",
        "    \n",
        "def move_to_Y(env,state):\n",
        "    \n",
        "    ds = list(env.decode(state))[:2]\n",
        "    optdone = False\n",
        "    optact = Y_mat[ds[0],ds[1]]\n",
        "    \n",
        "    if (ds == [4,0]):     #termination condition\n",
        "        optdone = True\n",
        "    \n",
        "    return [optact,optdone]\n",
        "    \n",
        "def move_to_G(env,state):\n",
        "\n",
        "    ds = list(env.decode(state))[:2]\n",
        "    optdone = False\n",
        "    optact = G_mat[ds[0],ds[1]]\n",
        "    \n",
        "    if (ds == [0,4]):     #termination condition\n",
        "        optdone = True\n",
        "    \n",
        "    return [optact,optdone]\n",
        "\n",
        "def move_to_B(env,state):\n",
        "\n",
        "    ds = list(env.decode(state))[:2]\n",
        "    optdone = False\n",
        "    optact = B_mat[ds[0],ds[1]]\n",
        "    \n",
        "    if (ds == [4,3]):     #termination condition\n",
        "        optdone = True\n",
        "    \n",
        "    return [optact,optdone]\n",
        "    \n",
        "\n",
        "#Now the new action space will contain\n",
        "#Primitive Actions: [\"south\", \"north\", \"east\", \"west\",\"pick\",\"drop\"]\n",
        "#Options: [\"move_to_R\",\"move_to_Y\",\"move_to_G\",\"move_to_B\"]\n",
        "#Total Actions :[\"south\", \"north\", \"east\", \"west\",\"pick\",\"drop\",\"move_to_R\",\"move_to_Y\",\"move_to_G\",\"move_to_B\"]\n",
        "#Corresponding to [0,1,2,3,4,5,6,7,8,9]\n"
      ]
    },
    {
      "cell_type": "code",
      "execution_count": null,
      "metadata": {
        "id": "bh_oghc7Ledh"
      },
      "outputs": [],
      "source": [
        "\n",
        "\n",
        "actions=[0,1,2,3,4,5,6,7,8,9]\n",
        "#epsilon-greedy action selection function\n",
        "seed = 36\n",
        "rg = np.random.RandomState(seed)\n",
        "\n",
        "def egreedy_policy(q_values,state,epsilon):\n",
        "    if rg.rand() < epsilon:\n",
        "        return rg.choice(actions)\n",
        "    else:\n",
        "        #max = np.max(q_values[state]) \n",
        "        #return rg.choice(np.where(q_values[state] == max)[0])\n",
        "        return np.argmax(q_values[state])"
      ]
    },
    {
      "cell_type": "code",
      "execution_count": null,
      "metadata": {
        "id": "xtSFMQyawUmi"
      },
      "outputs": [],
      "source": [
        "# sweep_config = {\n",
        "#     \"name\" : \"SMDP-sweep\",\n",
        "#     \"method\": \"random\",\n",
        "#     \"parameters\": {\n",
        "#         \"gamma\": {\n",
        "#             \"min\": 0.850,\n",
        "#             \"max\": 0.999\n",
        "#         },\n",
        "#         \"alpha\": {\n",
        "#             \"min\": 0.1,\n",
        "#             \"max\": 0.4\n",
        "#         },\n",
        "#         \"epsilon\": {\n",
        "#             \"min\": 0.1,\n",
        "#             \"max\": 0.3\n",
        "#         }\n",
        "#     }\n",
        "# }"
      ]
    },
    {
      "cell_type": "code",
      "execution_count": null,
      "metadata": {
        "id": "yReIXZH5wUmj"
      },
      "outputs": [],
      "source": [
        "#sweep_id = wandb.sweep(sweep_config, project='RLPA3')"
      ]
    },
    {
      "cell_type": "code",
      "execution_count": null,
      "metadata": {
        "id": "OCkqsZzGwUmj"
      },
      "outputs": [],
      "source": [
        "#wandb.agent(sweep_id, SMDP, count=20)"
      ]
    },
    {
      "cell_type": "code",
      "execution_count": null,
      "metadata": {
        "id": "ok_5eQM7OCTj"
      },
      "outputs": [],
      "source": [
        "#### SMDP Q-Learning \n",
        "\n",
        "# Add parameters you might need here\n",
        "# gamma = 0.9\n",
        "# alpha = 0.4\n",
        "alpha1 =  0.2821687004024015\n",
        "epsilon1= 0.13732834786589931\n",
        "gamma1 = 0.9756392557916136\n",
        "def SMDP(gamma, alpha, epsilon):\n",
        "    # wandb.init(project = 'RLPA3', entity = 'reinforce-boys')\n",
        "    # gamma = wandb.config.gamma\n",
        "    # alpha = wandb.config.alpha\n",
        "    # epsilon = wandb.config.epsilon\n",
        "\n",
        "    # Iterate over 1000 episodes\n",
        "    q_values_SMDP = np.zeros((500,10))\n",
        "    ufd1 = np.zeros((500,10))#Update_Frequency Data structure\n",
        "    Rewards = []\n",
        "    for _ in range(10000):\n",
        "        state = env.reset()    \n",
        "        done = False\n",
        "        \n",
        "        # While episode is not over\n",
        "        episode_reward = 0\n",
        "        while not done:\n",
        "            \n",
        "            # Choose action        \n",
        "            action = egreedy_policy(q_values_SMDP, state, epsilon=epsilon)\n",
        "            \n",
        "            # Checking if primitive action\n",
        "            if action < 6:\n",
        "                # Perform regular Q-Learning update for state-action pair\n",
        "\n",
        "                next_state, reward, done,_ = env.step(action)\n",
        "                q_values_SMDP[state, action] += alpha*(reward + gamma*np.max([q_values_SMDP[next_state, action] for action in actions]) - q_values_SMDP[state, action])\n",
        "                ufd1[state,action] += 1\n",
        "                state = next_state\n",
        "                episode_reward += reward\n",
        "\n",
        "            # Checking if action chosen is an option\n",
        "            reward_bar = 0\n",
        "            if action == 6: # action => move_to_R\n",
        "                \n",
        "                initial_state = np.copy(state)\n",
        "                optdone = False\n",
        "                count=0\n",
        "                while (optdone == False):\n",
        "                    \n",
        "                    optact,_ = move_to_R(env,state) \n",
        "                    #\n",
        "                    next_state, reward, done,_ = env.step(optact)\n",
        "\n",
        "                    _,optdone = move_to_R(env,next_state) \n",
        "                    \n",
        "                    reward_bar = reward_bar +  (gamma**count)*reward\n",
        "                    count+=1\n",
        "                    state = next_state\n",
        "                    episode_reward += reward\n",
        "\n",
        "                q_values_SMDP[initial_state, action] += alpha*(reward_bar + (gamma**count)*np.max([q_values_SMDP[state, action] for action in actions]) - q_values_SMDP[initial_state, action])\n",
        "                ufd1[initial_state,action] += 1\n",
        "                \n",
        "            \n",
        "            if action == 7: # action => move_to_Y option\n",
        "\n",
        "                initial_state = np.copy(state)\n",
        "                optdone = False\n",
        "                count=0\n",
        "                while (optdone == False):\n",
        "                    \n",
        "                    optact,_ = move_to_Y(env,state) \n",
        "\n",
        "                    next_state, reward, done,_ = env.step(optact)\n",
        "\n",
        "                    _,optdone = move_to_Y(env,next_state) \n",
        "\n",
        "                    reward_bar = reward_bar +  (gamma**count)*reward\n",
        "                    count+=1\n",
        "    \n",
        "                    state = next_state\n",
        "                    episode_reward += reward\n",
        "\n",
        "                q_values_SMDP[initial_state, action] += alpha*(reward_bar + (gamma**count)*np.max([q_values_SMDP[state, action] for action in actions]) - q_values_SMDP[initial_state, action])\n",
        "                ufd1[initial_state,action] += 1\n",
        "\n",
        "\n",
        "            if action == 8: # action => move_to_G option\n",
        "\n",
        "                initial_state = np.copy(state)\n",
        "                optdone = False\n",
        "                count=0\n",
        "                while (optdone == False):\n",
        "                    \n",
        "                    optact,_ = move_to_G(env,state) \n",
        "                    #\n",
        "                    next_state, reward, done,_ = env.step(optact)\n",
        "\n",
        "                    \n",
        "                    _,optdone = move_to_G(env,next_state) \n",
        "                    \n",
        "                    reward_bar = reward_bar +  (gamma**count)*reward\n",
        "                    count+=1\n",
        "\n",
        "                    state = next_state\n",
        "                    episode_reward += reward\n",
        "\n",
        "                q_values_SMDP[initial_state, action] += alpha*(reward_bar + (gamma**count)*np.max([q_values_SMDP[state, action] for action in actions]) - q_values_SMDP[initial_state, action])\n",
        "                ufd1[initial_state,action] += 1\n",
        "\n",
        "\n",
        "            if action == 9: # action => move_to_B option\n",
        "\n",
        "                initial_state = np.copy(state)\n",
        "                optdone = False\n",
        "                count=0\n",
        "                while (optdone == False):\n",
        "                    \n",
        "                    optact,_ = move_to_B(env,state) \n",
        "                    #\n",
        "                    next_state, reward, done,_ = env.step(optact)\n",
        "\n",
        "                    \n",
        "                    _,optdone = move_to_B(env,next_state) \n",
        "                    \n",
        "                    reward_bar = reward_bar +  (gamma**count)*reward\n",
        "                    count+=1\n",
        "\n",
        "                    state = next_state\n",
        "                    episode_reward += reward\n",
        "\n",
        "                q_values_SMDP[initial_state, action] += alpha*(reward_bar + (gamma**count)*np.max([q_values_SMDP[state, action] for action in actions]) - q_values_SMDP[initial_state, action])\n",
        "                ufd1[initial_state,action] += 1\n",
        "\n",
        "        #wandb.log({'episode_reward': episode_reward})\n",
        "        Rewards.append(episode_reward)\n",
        "    return q_values_SMDP, Rewards, ufd1\n",
        "  \n",
        "\n",
        "\n",
        "#plt.plot(Rewards)\n"
      ]
    },
    {
      "cell_type": "code",
      "execution_count": null,
      "metadata": {
        "id": "klUCZLF8wUmk"
      },
      "outputs": [],
      "source": [
        "q_values_SMDP, Rewards, ufd1 = SMDP(gamma1, alpha1, epsilon1)"
      ]
    },
    {
      "cell_type": "code",
      "source": [
        "np.mean(Rewards[2000:])"
      ],
      "metadata": {
        "colab": {
          "base_uri": "https://localhost:8080/"
        },
        "id": "CYSVh-7AC4kN",
        "outputId": "25d41675-c15d-4e9c-dc18-5704b0ff58b3"
      },
      "execution_count": null,
      "outputs": [
        {
          "output_type": "execute_result",
          "data": {
            "text/plain": [
              "7.082"
            ]
          },
          "metadata": {},
          "execution_count": 144
        }
      ]
    },
    {
      "cell_type": "code",
      "execution_count": null,
      "metadata": {
        "id": "skwPb-XTwUml"
      },
      "outputs": [],
      "source": [
        "pass_loc = ['R','G','Y','B','in_taxi']\n",
        "def render_taxi(s):\n",
        "    env.s = s\n",
        "    #plt.figure(3)\n",
        "    #plt.clf()\n",
        "    #plt.imshow(env.render(mode='rgb_array'))\n",
        "    env.render()\n",
        "    #display.clear_output(wait=True)\n",
        "    #display.display(plt.gcf())\n",
        "    #env.render()\n",
        "    time.sleep(2)\n",
        "    clear_output(wait = True)\n",
        "\n",
        "def drive_taxi(q_values):\n",
        "    state = env.reset()\n",
        "    done = False\n",
        "    env.render()\n",
        "    clear_output(wait = True)\n",
        "    print(\"Passenger location : \"+pass_loc[list(env.decode(env.s))[2]])\n",
        "    print(\"Destination : \"+pass_loc[list(env.decode(env.s))[3]])\n",
        "    while not done:\n",
        "        \n",
        "        action = np.argmax([q_values[state]])\n",
        "        if action < 6:\n",
        "            state, reward, done,_ = env.step(action)\n",
        "            render_taxi(state)\n",
        "        if action == 6:\n",
        "            optdone = False\n",
        "            while(optdone == False):\n",
        "                optact, optdone = move_to_R(env,state)\n",
        "                next_state, reward, done,_ = env.step(optact)\n",
        "                state = next_state\n",
        "                render_taxi(state)\n",
        "        if action == 7:\n",
        "            optdone = False\n",
        "            while(optdone == False):\n",
        "                optact, optdone = move_to_Y(env,state)\n",
        "                next_state, reward, done,_ = env.step(optact)\n",
        "                state = next_state\n",
        "                render_taxi(state)\n",
        "        if action == 8:\n",
        "            optdone = False\n",
        "            while(optdone == False):\n",
        "                optact, optdone = move_to_G(env,state)\n",
        "                next_state, reward, done,_ = env.step(optact)\n",
        "                state = next_state\n",
        "                render_taxi(state)\n",
        "        if action == 9:\n",
        "            optdone = False\n",
        "            while(optdone == False):\n",
        "                optact, optdone = move_to_B(env,state)\n",
        "                next_state, reward, done,_ = env.step(optact)\n",
        "                state = next_state\n",
        "                render_taxi(state)\n",
        "    \n",
        "            "
      ]
    },
    {
      "cell_type": "code",
      "execution_count": null,
      "metadata": {
        "colab": {
          "base_uri": "https://localhost:8080/"
        },
        "id": "sDMyaixqwUml",
        "outputId": "525b6111-b5a1-4d60-e953-12d78dfbd157"
      },
      "outputs": [
        {
          "output_type": "stream",
          "name": "stdout",
          "text": [
            "+---------+\n",
            "|\u001b[35m\u001b[34;1m\u001b[43mR\u001b[0m\u001b[0m\u001b[0m: | : :G|\n",
            "| : | : : |\n",
            "| : : : : |\n",
            "| | : | : |\n",
            "|Y| : |B: |\n",
            "+---------+\n",
            "  (Dropoff)\n"
          ]
        }
      ],
      "source": [
        "#img = plt.imshow(env.render(mode = 'rgb_array'))\n",
        "drive_taxi(q_values_SMDP)"
      ]
    },
    {
      "cell_type": "code",
      "execution_count": null,
      "metadata": {
        "id": "lr3uaXRswUmm"
      },
      "outputs": [],
      "source": [
        "# sweep_config = {\n",
        "#     \"name\" : \"Intra-sweep\",\n",
        "#     \"method\": \"random\",\n",
        "#     \"parameters\": {\n",
        "#         \"gamma\": {\n",
        "#             \"min\": 0.850,\n",
        "#             \"max\": 0.999\n",
        "#         },\n",
        "#         \"alpha\": {\n",
        "#             \"min\": 0.1,\n",
        "#             \"max\": 0.4\n",
        "#         },\n",
        "#         \"epsilon\": {\n",
        "#             \"min\": 0.1,\n",
        "#             \"max\": 0.3\n",
        "#         }\n",
        "#     }\n",
        "# }"
      ]
    },
    {
      "cell_type": "code",
      "execution_count": null,
      "metadata": {
        "id": "1C8pfVQDwUmm"
      },
      "outputs": [],
      "source": [
        "#sweep_id = wandb.sweep(sweep_config, project='RLPA3')"
      ]
    },
    {
      "cell_type": "code",
      "execution_count": null,
      "metadata": {
        "id": "I22YjVGOwUmn"
      },
      "outputs": [],
      "source": [
        "#wandb.agent(sweep_id, SMDP, count=20)"
      ]
    },
    {
      "cell_type": "code",
      "execution_count": null,
      "metadata": {
        "id": "r6A2TdUHWVUN"
      },
      "outputs": [],
      "source": [
        "#### Intra-Option Q-Learning \n",
        "\n",
        "# Add parameters you might need here\n",
        "# gamma = 0.9\n",
        "# alpha = 0.4\n",
        "alpha=  0.19751633358692788\n",
        "epsilon = 0.12233772892858322\n",
        "gamma = 0.9684975038393936\n",
        "def Intra(gamma, alpha, epsilon):\n",
        "  # Iterate over 1000 episodes\n",
        "  # gamma = wandb.config.gamma\n",
        "  # alpha = wandb.config.alpha\n",
        "  # epsilon = wandb.config.epsilon\n",
        "  Rewards = []\n",
        "  q_values_SMDP2 = np.zeros((500,10))\n",
        "\n",
        "  ufd2 = np.zeros((500,10))#Update_Frequency Data structure\n",
        "  for _ in range(10000):\n",
        "      state = env.reset()    \n",
        "      done = False\n",
        "\n",
        "      # While episode is not over\n",
        "      episode_reward = 0\n",
        "      while not done:\n",
        "\n",
        "          # Choose action        \n",
        "          action = egreedy_policy(q_values_SMDP2, state, epsilon=epsilon)\n",
        "          \n",
        "          # Checking if primitive action\n",
        "          if action < 6:\n",
        "              # Perform regular Q-Learning update for state-action pair\n",
        "\n",
        "              next_state, reward, done,_ = env.step(action)\n",
        "              q_values_SMDP2[state, action] += alpha*(reward + gamma*np.max([q_values_SMDP2[next_state, action] for action in actions]) - q_values_SMDP2[state, action])\n",
        "              ufd2[state,action] += 1\n",
        "              episode_reward+=reward\n",
        "\n",
        "              state = next_state\n",
        "          \n",
        "          # Checking if action chosen is an option\n",
        "\n",
        "          if action == 6: # action => Move to R option\n",
        "\n",
        "              optdone = False\n",
        "              while (optdone == False) :\n",
        "                  \n",
        "                  optact,_ = move_to_R(env,state) \n",
        "                  next_state, reward, done,_ = env.step(optact)\n",
        "                  _,optdone = move_to_R(env,next_state) \n",
        "                  episode_reward+=reward\n",
        "\n",
        "                  q_values_SMDP2[state, optact] += alpha*(reward + gamma*np.max([q_values_SMDP2[next_state, action] for action in actions]) - q_values_SMDP2[state, optact])\n",
        "                  ufd2[state,optact] += 1\n",
        "                  \n",
        "                  if not optdone:\n",
        "                    q_values_SMDP2[state, action] += alpha*(reward + gamma*q_values_SMDP2[next_state, action] - q_values_SMDP2[state, action])\n",
        "                    ufd2[state,action] += 1\n",
        "                  else:\n",
        "                    q_values_SMDP2[state, action] += alpha*(reward + gamma*np.max([q_values_SMDP2[next_state, action] for action in actions]) - q_values_SMDP2[state, action])\n",
        "                    ufd2[state,action] += 1\n",
        "\n",
        "                  state = next_state\n",
        "\n",
        "              \n",
        "\n",
        "                \n",
        "            \n",
        "          if action == 7: # action => move to Y option\n",
        "\n",
        "              optdone = False\n",
        "              while (optdone == False) :\n",
        "                  \n",
        "                  optact,_ = move_to_Y(env,state) \n",
        "                  next_state, reward, done,_ = env.step(optact)\n",
        "                  _,optdone = move_to_Y(env,next_state) \n",
        "                  episode_reward+=reward\n",
        "\n",
        "                  q_values_SMDP2[state, optact] += alpha*(reward + gamma*np.max([q_values_SMDP2[next_state, action] for action in actions]) - q_values_SMDP2[state, optact])\n",
        "                  ufd2[state,optact] += 1\n",
        "                  \n",
        "                  if not optdone:\n",
        "                    q_values_SMDP2[state, action] += alpha*(reward + gamma*q_values_SMDP2[next_state, action] - q_values_SMDP2[state, action])\n",
        "                    ufd2[state,action] += 1\n",
        "                  else:\n",
        "                    q_values_SMDP2[state, action] += alpha*(reward + gamma*np.max([q_values_SMDP2[next_state, action] for action in actions]) - q_values_SMDP2[state, action])\n",
        "                    ufd2[state,action] += 1\n",
        "\n",
        "                  state = next_state\n",
        "\n",
        "\n",
        "          if action == 8: # action => move to G option\n",
        "\n",
        "              optdone = False\n",
        "              while (optdone == False) :\n",
        "                  \n",
        "                  optact,_ = move_to_Y(env,state) \n",
        "                  next_state, reward, done,_ = env.step(optact)\n",
        "                  _,optdone = move_to_Y(env,next_state) \n",
        "                  episode_reward+=reward\n",
        "\n",
        "                  q_values_SMDP2[state, optact] += alpha*(reward + gamma*np.max([q_values_SMDP2[next_state, action] for action in actions]) - q_values_SMDP2[state, optact])\n",
        "                  ufd2[state,optact] += 1\n",
        "                  \n",
        "                  if not optdone:\n",
        "                    q_values_SMDP2[state, action] += alpha*(reward + gamma*q_values_SMDP2[next_state, action] - q_values_SMDP2[state, action])\n",
        "                    ufd2[state,action] += 1\n",
        "                  else:\n",
        "                    q_values_SMDP2[state, action] += alpha*(reward + gamma*np.max([q_values_SMDP2[next_state, action] for action in actions]) - q_values_SMDP2[state, action])\n",
        "                    ufd2[state,action] += 1\n",
        "\n",
        "                  state = next_state\n",
        "\n",
        "\n",
        "          if action == 9: # action => move to B option\n",
        "\n",
        "              optdone = False\n",
        "              while (optdone == False) :\n",
        "                  \n",
        "                  optact,_ = move_to_B(env,state) \n",
        "                  next_state, reward, done,_ = env.step(optact)\n",
        "                  _,optdone = move_to_B(env,next_state)\n",
        "                  episode_reward+=reward \n",
        "\n",
        "                  q_values_SMDP2[state, optact] += alpha*(reward + gamma*np.max([q_values_SMDP2[next_state, action] for action in actions]) - q_values_SMDP2[state, optact])\n",
        "                  ufd2[state,optact] += 1\n",
        "                  \n",
        "                  if not optdone:\n",
        "                    q_values_SMDP2[state, action] += alpha*(reward + gamma*q_values_SMDP2[next_state, action] - q_values_SMDP2[state, action])\n",
        "                    ufd2[state,action] += 1\n",
        "                  else:\n",
        "                    q_values_SMDP2[state, action] += alpha*(reward + gamma*np.max([q_values_SMDP2[next_state, action] for action in actions]) - q_values_SMDP2[state, action])\n",
        "                    ufd2[state,action] += 1\n",
        "\n",
        "                  state = next_state\n",
        "      #wandb.log({'episode_reward': episode_reward})\n",
        "      Rewards.append(episode_reward)\n",
        "  return q_values_SMDP2, Rewards, ufd2\n",
        "\n",
        "\n",
        "# plt.plot(Rewards)"
      ]
    },
    {
      "cell_type": "code",
      "execution_count": null,
      "metadata": {
        "id": "YEes43WgwUmo"
      },
      "outputs": [],
      "source": [
        "q_values_SMDP2, Rewards2, ufd2 = Intra(gamma, alpha, epsilon)"
      ]
    },
    {
      "cell_type": "code",
      "source": [
        "np.mean(Rewards2[8000:])"
      ],
      "metadata": {
        "id": "ytulV1klDO9o"
      },
      "execution_count": null,
      "outputs": []
    },
    {
      "cell_type": "code",
      "execution_count": null,
      "metadata": {
        "colab": {
          "base_uri": "https://localhost:8080/"
        },
        "id": "FhWtTBrMwUmo",
        "outputId": "0df2caba-01b4-4458-cc55-51a8c9ec9b2d"
      },
      "outputs": [
        {
          "output_type": "stream",
          "name": "stdout",
          "text": [
            "+---------+\n",
            "|\u001b[35m\u001b[34;1m\u001b[43mR\u001b[0m\u001b[0m\u001b[0m: | : :G|\n",
            "| : | : : |\n",
            "| : : : : |\n",
            "| | : | : |\n",
            "|Y| : |B: |\n",
            "+---------+\n",
            "  (Dropoff)\n"
          ]
        }
      ],
      "source": [
        "drive_taxi(q_values_SMDP2)"
      ]
    },
    {
      "cell_type": "code",
      "execution_count": null,
      "metadata": {
        "id": "ihmxXXUWwUmo"
      },
      "outputs": [],
      "source": [
        "#case when passenger is at either R,G,Y,B\n",
        "#To visualise lets break the task into 2 parts: pick-up and drop\n",
        "op_SMDP_1 = [np.zeros((5,5)) for i in range(4)]  #Matrix to hold the optimal actions/options in each state\n",
        "op_SMDP_q1 = [np.zeros((5,5)) for i in range(4)]\n",
        "op_intra_1 = [np.zeros((5,5)) for i in range(4)] #cases where passengers are not in the taxi \n",
        "op_intra_q1 = [np.zeros((5,5)) for i in range(4)]\n",
        "\n",
        "op_SMDP_2 = [np.zeros((5,5)) for i in range(4)]  #Matrix to hold the optimal actions/options in each state\n",
        "op_SMDP_q2 = [np.zeros((5,5)) for i in range(4)]\n",
        "op_intra_2 = [np.zeros((5,5)) for i in range(4)] #cases where passenger is in the taxi\n",
        "op_intra_q2 = [np.zeros((5,5)) for i in range(4)]\n",
        "\n",
        "for i in range(500): #iterating over all states\n",
        "  state = list(env.decode(i))\n",
        "  if state[2] != 4:\n",
        "    op_SMDP_1[state[2]][state[0],state[1]] = np.argmax(q_values_SMDP[i])\n",
        "    op_SMDP_q1[state[2]][state[0],state[1]] = np.amax(q_values_SMDP[i])\n",
        "    op_intra_1[state[2]][state[0],state[1]] = np.argmax(q_values_SMDP2[i])\n",
        "    op_intra_q1[state[2]][state[0],state[1]] = np.amax(q_values_SMDP2[i])    \n",
        "  else:\n",
        "    op_SMDP_2[state[3]][state[0],state[1]] = np.argmax(q_values_SMDP[i])\n",
        "    op_SMDP_q2[state[3]][state[0],state[1]] = np.amax(q_values_SMDP[i])\n",
        "    op_intra_2[state[3]][state[0],state[1]] = np.argmax(q_values_SMDP2[i])\n",
        "    op_intra_q2[state[3]][state[0],state[1]] = np.amax(q_values_SMDP2[i]) \n"
      ]
    },
    {
      "cell_type": "code",
      "source": [
        "def visualise_q(m1,m2):\n",
        "  fig, ax = plt.subplots(figsize = (10,10))\n",
        "  im = ax.imshow(m1, extent=[0, 10, 0, 10])\n",
        "  ax.grid(which='major', axis='both', linestyle='-', color='k', linewidth=2)\n",
        "  divider = make_axes_locatable(ax)\n",
        "  cax = divider.append_axes('right', size='5%', pad=0.05)\n",
        "  fig.colorbar(im, cax=cax, orientation='vertical')\n",
        "  def x_direct(a):\n",
        "    if a in [0,1,4,5,6,7,8,9]:\n",
        "        return 0\n",
        "    elif a in [2]:\n",
        "        return 1\n",
        "    else:\n",
        "        return -1\n",
        "  def y_direct(a):\n",
        "    if a in [2,3,4,5,6,7,8,9]:\n",
        "      return 0\n",
        "    elif a in [1]:\n",
        "        return 1\n",
        "    else:\n",
        "        return -1\n",
        "  policyx = np.vectorize(x_direct)(m2)\n",
        "  policyy = np.vectorize(y_direct)(m2)\n",
        "  idx = 2*np.indices((5,5))\n",
        "  ax.quiver(idx[1][::-1].ravel()+ 1, idx[0][::-1].ravel()+1, policyx.ravel(), policyy.ravel(), pivot=\"middle\", color='red')\n",
        "\n",
        "  for i in range(5):\n",
        "    for j in range(5):\n",
        "      if m2[i][j] == 4:  #pick-rectangle\n",
        "        #rect = patches.Rectangle((idx[1][::-1][i][j]+0.5, idx[0][::-1][i][j]+0.5), 1, 1, linewidth=0.5, edgecolor='r', facecolor='r')\n",
        "        #ax.add_patch(rect)\n",
        "        ax.text(idx[1][::-1][i][j]+0.6, idx[0][::-1][i][j]+0.6 ,'Pick',color = 'r', fontsize= 20)\n",
        "      if m2[i][j] == 5:  #drop-Circle\n",
        "        #circ = patches.Circle((idx[1][::-1][i][j]+1, idx[0][::-1][i][j]+1), 0.5, linewidth=0.5, edgecolor='r', facecolor='r')\n",
        "        #ax.add_patch(circ)\n",
        "        ax.text(idx[1][::-1][i][j]+0.6, idx[0][::-1][i][j]+0.6 ,'Drop',color = 'r', fontsize= 20)\n",
        "      if m2[i][j] == 6:\n",
        "        ax.text(idx[1][::-1][i][j]+0.9, idx[0][::-1][i][j]+0.9 ,'R',color = 'r', fontsize= 35)\n",
        "\n",
        "      if m2[i][j] == 7:\n",
        "        ax.text(idx[1][::-1][i][j]+0.9, idx[0][::-1][i][j]+0.9 ,'Y',color = 'r', fontsize= 35)\n",
        "\n",
        "      if m2[i][j] == 8:\n",
        "        ax.text(idx[1][::-1][i][j]+0.9, idx[0][::-1][i][j]+0.9 ,'G',color = 'r', fontsize= 35)\n",
        "\n",
        "      if m2[i][j] == 9:\n",
        "        ax.text(idx[1][::-1][i][j]+0.9, idx[0][::-1][i][j]+0.9 ,'B',color = 'r', fontsize= 35)        \n",
        "\n",
        "  fig.tight_layout()\n"
      ],
      "metadata": {
        "id": "e8C--n1FRU1d"
      },
      "execution_count": null,
      "outputs": []
    },
    {
      "cell_type": "code",
      "source": [],
      "metadata": {
        "id": "HIozuLjFPfP0"
      },
      "execution_count": null,
      "outputs": []
    },
    {
      "cell_type": "markdown",
      "source": [
        "<h3> Now we experiment with another set of options </h3>"
      ],
      "metadata": {
        "id": "Zc6wW04pay8F"
      }
    },
    {
      "cell_type": "code",
      "execution_count": null,
      "metadata": {
        "id": "0SfcOvScbskn"
      },
      "outputs": [],
      "source": [
        "# We are defining four more options here\n",
        "# Option 1 go to highway \n",
        "# Option 2 move left on highway\n",
        "# Option 3 move right on highway\n",
        "\n",
        "def goto_hw(env,state):\n",
        "    \n",
        "    ds = list(env.decode(state))[:2]\n",
        "    optdone = False\n",
        "    optact = h_mat[ds[0],ds[1]]\n",
        "    \n",
        "    if (ds[0] == 2):    #termination condition(if row==2)\n",
        "        optdone = True\n",
        "    \n",
        "    return [optact,optdone]\n",
        "\n",
        "def left_hw(env,state):\n",
        "\n",
        "    ds = list(env.decode(state))[:2]\n",
        "    optdone = False\n",
        "    optact = 3\n",
        "    \n",
        "    if (ds == [2,0]):     #termination condition\n",
        "        optdone = True\n",
        "    \n",
        "    return [optact,optdone]\n",
        "    \n",
        "def right_hw(env,state):\n",
        "    \n",
        "    ds = list(env.decode(state))[:2]\n",
        "    optdone = False\n",
        "    optact = 2\n",
        "    \n",
        "    if (ds == [2,3]):     #termination condition\n",
        "        optdone = True\n",
        "    \n",
        "    return [optact,optdone]\n",
        "    \n",
        "\n",
        "\n",
        "#Now the new action space will contain\n",
        "#Primitive Actions: [\"south\", \"north\", \"east\", \"west\",\"pick\",\"drop\"]\n",
        "#Options: [\"move_to_R\",\"move_to_Y\",\"move_to_G\",\"move_to_B\"]\n",
        "#Total Actions :[\"south\", \"north\", \"east\", \"west\",\"pick\",\"drop\",\"goto_hw\",\"left_hw\",\"right_hw\"]\n",
        "#Corresponding to [0,1,2,3,4,5,6,7,8]\n"
      ]
    },
    {
      "cell_type": "code",
      "execution_count": null,
      "metadata": {
        "id": "AaOISyeebskt"
      },
      "outputs": [],
      "source": [
        "  \n",
        "#epsilon-greedy action selection function\n",
        "seed = 36\n",
        "rg = np.random.RandomState(seed)\n",
        "\n",
        "def egreedy_policy(q_values,state,epsilon):\n",
        "    nstate = list(env.decode(state))[:2]\n",
        "    if nstate[0]!=2:\n",
        "      actions = [0,1,2,3,4,5,6]\n",
        "    if nstate == [2,0]:\n",
        "      actions = [0,1,2,3,4,5,8]\n",
        "    if nstate == [2,1] or nstate ==[2,2] :\n",
        "      actions = [0,1,2,3,4,5,7,8]\n",
        "    if nstate == [2,3] or nstate ==[2,4] :\n",
        "      actions = [0,1,2,3,4,5,7]\n",
        "\n",
        "    if rg.rand() < epsilon:\n",
        "        return rg.choice(actions)\n",
        "    else:\n",
        "        #max = np.max(q_values[state]) \n",
        "        #return rg.choice(np.where(q_values[state] == max)[0])\n",
        "        return np.argmax(q_values[state])"
      ]
    },
    {
      "cell_type": "code",
      "source": [
        "def get_q():\n",
        "  q_values_SMDP = np.zeros((500,9))\n",
        "  for i in range(500):\n",
        "    pos = list(env.decode(i))[:2]\n",
        "    if pos[0] != 2:\n",
        "      q_values_SMDP[i,7] = -100\n",
        "      q_values_SMDP[i,8] = -100\n",
        "    \n",
        "    if pos == [2,0]:\n",
        "      q_values_SMDP[i,7] = -100\n",
        "      q_values_SMDP[i,6] = -100  \n",
        "\n",
        "    if pos == [2,1] or pos ==[2,2] :\n",
        "      q_values_SMDP[i,6] = -100 \n",
        "\n",
        "    if pos == [2,3] or pos ==[2,4] : \n",
        "      q_values_SMDP[i,6] = -100 \n",
        "      q_values_SMDP[i,8] = -100 \n",
        "\n",
        "  return q_values_SMDP"
      ],
      "metadata": {
        "id": "a7hhHh_YGhec"
      },
      "execution_count": null,
      "outputs": []
    },
    {
      "cell_type": "code",
      "execution_count": null,
      "metadata": {
        "id": "5pcK6rP9bsk0"
      },
      "outputs": [],
      "source": [
        "\n",
        "#### SMDP Q-Learning \n",
        "actions = [0,1,2,3,4,5,6,7,8]\n",
        "# Add parameters you might need here\n",
        "gamma = 0.9\n",
        "alpha = 0.2\n",
        "epsilon=0.01\n",
        "# Iterate over 1000 episodes\n",
        "def SMDP(gamma,alpha,epsilon):\n",
        "  q_values_SMDP =get_q()\n",
        "  ufd1 = np.zeros((500,9))#Update_Frequency Data structure\n",
        "  Rewards = []\n",
        "  for _ in range(10000):\n",
        "      state = env.reset()    \n",
        "      done = False\n",
        "      \n",
        "      # While episode is not over\n",
        "      episode_reward = 0\n",
        "      while not done:\n",
        "          \n",
        "          # Choose action        \n",
        "          action = egreedy_policy(q_values_SMDP, state, epsilon)\n",
        "          \n",
        "          # Checking if primitive action\n",
        "          if action < 6:\n",
        "              # Perform regular Q-Learning update for state-action pair\n",
        "\n",
        "              next_state, reward, done,_ = env.step(action)\n",
        "              q_values_SMDP[state, action] += alpha*(reward + gamma*np.max([q_values_SMDP[next_state, action] for action in actions]) - q_values_SMDP[state, action])\n",
        "              ufd1[state,action] += 1\n",
        "              state = next_state\n",
        "              episode_reward += reward\n",
        "\n",
        "          # Checking if action chosen is an option\n",
        "          reward_bar = 0\n",
        "          if action == 6: # action => goto_hw\n",
        "              \n",
        "              initial_state = np.copy(state)\n",
        "              optdone = False\n",
        "              count=0\n",
        "              while (optdone == False):\n",
        "                  \n",
        "                  optact,_ = goto_hw(env,state) \n",
        "                  #\n",
        "                  next_state, reward, done,_ = env.step(optact)\n",
        "\n",
        "                  _,optdone = goto_hw(env,next_state) \n",
        "                  \n",
        "                  reward_bar = reward_bar +  (gamma**count)*reward\n",
        "                  count+=1\n",
        "                  state = next_state\n",
        "                  episode_reward += reward\n",
        "\n",
        "              q_values_SMDP[initial_state, action] += alpha*(reward_bar + (gamma**count)*np.max([q_values_SMDP[state, action] for action in actions]) - q_values_SMDP[initial_state, action])\n",
        "              ufd1[initial_state,action] += 1\n",
        "                \n",
        "            \n",
        "          if action == 7: # action => left_hw option\n",
        "\n",
        "              initial_state = np.copy(state)\n",
        "              optdone = False\n",
        "              count=0\n",
        "              while (optdone == False):\n",
        "                  \n",
        "                  optact,_ = left_hw(env,state) \n",
        "\n",
        "                  next_state, reward, done,_ = env.step(optact)\n",
        "\n",
        "                  _,optdone = left_hw(env,next_state) \n",
        "\n",
        "                  reward_bar = reward_bar +  (gamma**count)*reward\n",
        "                  count+=1\n",
        "    \n",
        "                  state = next_state\n",
        "                  episode_reward += reward\n",
        "\n",
        "              q_values_SMDP[initial_state, action] += alpha*(reward_bar + (gamma**count)*np.max([q_values_SMDP[state, action] for action in actions]) - q_values_SMDP[initial_state, action])\n",
        "              ufd1[initial_state,action] += 1\n",
        "\n",
        "\n",
        "          if action == 8: # action => right_hw option\n",
        "\n",
        "              initial_state = np.copy(state)\n",
        "              optdone = False\n",
        "              count=0\n",
        "              while (optdone == False):\n",
        "                  \n",
        "                  optact,_ = right_hw(env,state) \n",
        "                  #\n",
        "                  next_state, reward, done,_ = env.step(optact)\n",
        "\n",
        "                  \n",
        "                  _,optdone = right_hw(env,next_state) \n",
        "                  \n",
        "                  reward_bar = reward_bar +  (gamma**count)*reward\n",
        "                  count+=1\n",
        "\n",
        "                  state = next_state\n",
        "                  episode_reward += reward\n",
        "\n",
        "              q_values_SMDP[initial_state, action] += alpha*(reward_bar + (gamma**count)*np.max([q_values_SMDP[state, action] for action in actions]) - q_values_SMDP[initial_state, action])\n",
        "              ufd1[initial_state,action] += 1\n",
        "\n",
        "\n",
        "      Rewards.append(episode_reward)\n",
        "    \n",
        "  return q_values_SMDP,Rewards,ufd1\n",
        "\n",
        "\n",
        "\n"
      ]
    },
    {
      "cell_type": "code",
      "source": [
        "q_values1,rewards1,ufd1 = SMDP(gamma,alpha,epsilon)\n",
        "plt.figure(figsize=(9,6))\n",
        "plt.plot(rewards1)"
      ],
      "metadata": {
        "colab": {
          "base_uri": "https://localhost:8080/",
          "height": 391
        },
        "id": "EUFzDSJrRxwz",
        "outputId": "9f7a0d18-2a71-4ce5-f287-bd0fffe1a189"
      },
      "execution_count": null,
      "outputs": [
        {
          "output_type": "execute_result",
          "data": {
            "text/plain": [
              "[<matplotlib.lines.Line2D at 0x7fafee82e450>]"
            ]
          },
          "metadata": {},
          "execution_count": 389
        },
        {
          "output_type": "display_data",
          "data": {
            "text/plain": [
              "<Figure size 648x432 with 1 Axes>"
            ],
            "image/png": "[encoded data removed]"
          },
          "metadata": {
            "needs_background": "light"
          }
        }
      ]
    },
    {
      "cell_type": "code",
      "source": [
        "np.mean(rewards1[8000:])"
      ],
      "metadata": {
        "id": "6duXbfEcSbPk",
        "colab": {
          "base_uri": "https://localhost:8080/"
        },
        "outputId": "47e404ac-6bb5-419c-b78b-bccfd28b6072"
      },
      "execution_count": null,
      "outputs": [
        {
          "output_type": "execute_result",
          "data": {
            "text/plain": [
              "7.4725"
            ]
          },
          "metadata": {},
          "execution_count": 390
        }
      ]
    },
    {
      "cell_type": "code",
      "execution_count": null,
      "metadata": {
        "id": "vvgF92pBbsk8"
      },
      "outputs": [],
      "source": [
        "#### Intra-Option Q-Learning \n",
        "\n",
        "# Add parameters you might need here\n",
        "gamma = 0.93\n",
        "alpha = 0.2\n",
        "epsilon=0.001\n",
        "# Iterate over 1000 episodes\n",
        "def intra(gamma,alpha,epsilon):\n",
        "  Rewards = []\n",
        "  q_values_SMDP2 = get_q()\n",
        "  ufd2 = np.zeros((500,9))#Update_Frequency Data structure\n",
        "  for _ in range(10000):\n",
        "      state = env.reset()    \n",
        "      done = False\n",
        "\n",
        "      # While episode is not over\n",
        "      episode_reward = 0\n",
        "      while not done:\n",
        "\n",
        "          # Choose action        \n",
        "          action = egreedy_policy(q_values_SMDP2, state, epsilon)\n",
        "          \n",
        "          # Checking if primitive action\n",
        "          if action < 6:\n",
        "              # Perform regular Q-Learning update for state-action pair\n",
        "\n",
        "              next_state, reward, done,_ = env.step(action)\n",
        "              q_values_SMDP2[state, action] += alpha*(reward + gamma*np.max([q_values_SMDP2[next_state, action] for action in actions]) - q_values_SMDP2[state, action])\n",
        "              ufd2[state,action] += 1\n",
        "              episode_reward+=reward\n",
        "\n",
        "              state = next_state\n",
        "          \n",
        "          # Checking if action chosen is an option\n",
        "\n",
        "          if action == 6: # action => goto highway option\n",
        "\n",
        "              optdone = False\n",
        "              while (optdone == False) :\n",
        "                  \n",
        "                  optact,_ = goto_hw(env,state) \n",
        "                  next_state, reward, done,_ = env.step(optact)\n",
        "                  _,optdone = goto_hw(env,next_state) \n",
        "                  episode_reward+=reward\n",
        "\n",
        "                  q_values_SMDP2[state, optact] += alpha*(reward + gamma*np.max([q_values_SMDP2[next_state, action] for action in actions]) - q_values_SMDP2[state, optact])\n",
        "                  ufd2[state,optact] += 1\n",
        "                  \n",
        "                  if not optdone:\n",
        "                    q_values_SMDP2[state, action] += alpha*(reward + gamma*q_values_SMDP2[next_state, action] - q_values_SMDP2[state, action])\n",
        "                    ufd2[state,action] += 1\n",
        "                  else:\n",
        "                    q_values_SMDP2[state, action] += alpha*(reward + gamma*np.max([q_values_SMDP2[next_state, action] for action in actions]) - q_values_SMDP2[state, action])\n",
        "                    ufd2[state,action] += 1\n",
        "\n",
        "                  state = next_state\n",
        "\n",
        "              \n",
        "\n",
        "                \n",
        "            \n",
        "          if action == 7: # action => move left of highway option\n",
        "\n",
        "              optdone = False\n",
        "              while (optdone == False) :\n",
        "                  \n",
        "                  optact,_ = left_hw(env,state) \n",
        "                  next_state, reward, done,_ = env.step(optact)\n",
        "                  _,optdone = left_hw(env,next_state) \n",
        "                  episode_reward+=reward\n",
        "\n",
        "                  q_values_SMDP2[state, optact] += alpha*(reward + gamma*np.max([q_values_SMDP2[next_state, action] for action in actions]) - q_values_SMDP2[state, optact])\n",
        "                  ufd2[state,optact] += 1\n",
        "                  \n",
        "                  if not optdone:\n",
        "                    q_values_SMDP2[state, action] += alpha*(reward + gamma*q_values_SMDP2[next_state, action] - q_values_SMDP2[state, action])\n",
        "                    ufd2[state,action] += 1\n",
        "                  else:\n",
        "                    q_values_SMDP2[state, action] += alpha*(reward + gamma*np.max([q_values_SMDP2[next_state, action] for action in actions]) - q_values_SMDP2[state, action])\n",
        "                    ufd2[state,action] += 1\n",
        "\n",
        "                  state = next_state\n",
        "\n",
        "\n",
        "          if action == 8: # action => move right of highway option\n",
        "\n",
        "              optdone = False\n",
        "              while (optdone == False) :\n",
        "                  \n",
        "                  optact,_ = right_hw(env,state) \n",
        "                  next_state, reward, done,_ = env.step(optact)\n",
        "                  _,optdone = right_hw(env,next_state) \n",
        "                  episode_reward+=reward\n",
        "\n",
        "                  q_values_SMDP2[state, optact] += alpha*(reward + gamma*np.max([q_values_SMDP2[next_state, action] for action in actions]) - q_values_SMDP2[state, optact])\n",
        "                  ufd2[state,optact] += 1\n",
        "                  \n",
        "                  if not optdone:\n",
        "                    q_values_SMDP2[state, action] += alpha*(reward + gamma*q_values_SMDP2[next_state, action] - q_values_SMDP2[state, action])\n",
        "                    ufd2[state,action] += 1\n",
        "                  else:\n",
        "                    q_values_SMDP2[state, action] += alpha*(reward + gamma*np.max([q_values_SMDP2[next_state, action] for action in actions]) - q_values_SMDP2[state, action])\n",
        "                    ufd2[state,action] += 1\n",
        "\n",
        "                  state = next_state\n",
        "\n",
        "\n",
        "      Rewards.append(episode_reward)\n",
        "\n",
        "  return q_values_SMDP2,Rewards,ufd2\n",
        "\n",
        "\n"
      ]
    },
    {
      "cell_type": "code",
      "source": [
        "q_values2,rewards2,ufd2 = intra(gamma,alpha,epsilon)\n",
        "plt.figure(figsize=(9,6))\n",
        "plt.plot(rewards2)"
      ],
      "metadata": {
        "id": "4i0IkGKOwSUW",
        "colab": {
          "base_uri": "https://localhost:8080/",
          "height": 391
        },
        "outputId": "23f12dc7-5d6f-42e0-cb27-201079a67919"
      },
      "execution_count": null,
      "outputs": [
        {
          "output_type": "execute_result",
          "data": {
            "text/plain": [
              "[<matplotlib.lines.Line2D at 0x7fafee7b0890>]"
            ]
          },
          "metadata": {},
          "execution_count": 386
        },
        {
          "output_type": "display_data",
          "data": {
            "text/plain": [
              "<Figure size 648x432 with 1 Axes>"
            ],
            "image/png": "[encoded data removed]"
          },
          "metadata": {
            "needs_background": "light"
          }
        }
      ]
    },
    {
      "cell_type": "code",
      "source": [
        "np.mean(rewards2[8000:])"
      ],
      "metadata": {
        "colab": {
          "base_uri": "https://localhost:8080/"
        },
        "id": "fkRNW400TLdU",
        "outputId": "3361b2b2-d63f-4b78-aedd-77704595324a"
      },
      "execution_count": null,
      "outputs": [
        {
          "output_type": "execute_result",
          "data": {
            "text/plain": [
              "7.949"
            ]
          },
          "metadata": {},
          "execution_count": 387
        }
      ]
    },
    {
      "cell_type": "code",
      "source": [
        "#case when passenger is at either R,G,Y,B\n",
        "#To visualise lets break the task into 2 parts: pick-up and drop\n",
        "op_SMDP_1 = [np.zeros((5,5)) for i in range(4)]  #Matrix to hold the optimal actions/options in each state\n",
        "op_SMDP_q1 = [np.zeros((5,5)) for i in range(4)]\n",
        "ufd_SMDP_1 = [np.zeros((5,5)) for i in range(4)]\n",
        "op_intra_1 = [np.zeros((5,5)) for i in range(4)] #cases where passengers are not in the taxi \n",
        "op_intra_q1 = [np.zeros((5,5)) for i in range(4)]\n",
        "ufd_intra_1 = [np.zeros((5,5)) for i in range(4)]\n",
        "\n",
        "op_SMDP_2 = [np.zeros((5,5)) for i in range(4)]  #Matrix to hold the optimal actions/options in each state\n",
        "op_SMDP_q2 = [np.zeros((5,5)) for i in range(4)]\n",
        "ufd_SMDP_2 = [np.zeros((5,5)) for i in range(4)]\n",
        "op_intra_2 = [np.zeros((5,5)) for i in range(4)] #cases where passenger is in the taxi\n",
        "op_intra_q2 = [np.zeros((5,5)) for i in range(4)]\n",
        "ufd_intra_2 = [np.zeros((5,5)) for i in range(4)]\n",
        "\n",
        "for i in range(500): #iterating over all states\n",
        "  state = list(env.decode(i))\n",
        "  if state[2] != 4:\n",
        "    op_SMDP_1[state[2]][state[0],state[1]] = np.argmax(q_values1[i])\n",
        "    op_SMDP_q1[state[2]][state[0],state[1]] = np.amax(q_values1[i])\n",
        "    ufd_SMDP_1[state[2]][state[0],state[1]] = np.sum(ufd1[i])\n",
        "    op_intra_1[state[2]][state[0],state[1]] = np.argmax(q_values2[i])\n",
        "    op_intra_q1[state[2]][state[0],state[1]] = np.amax(q_values2[i])\n",
        "    ufd_intra_1[state[2]][state[0],state[1]] = np.sum(ufd2[i])\n",
        "  else:\n",
        "    op_SMDP_2[state[3]][state[0],state[1]] = np.argmax(q_values1[i])\n",
        "    op_SMDP_q2[state[3]][state[0],state[1]] = np.amax(q_values1[i])\n",
        "    ufd_SMDP_2[state[3]][state[0],state[1]] = np.sum(ufd1[i])\n",
        "    op_intra_2[state[3]][state[0],state[1]] = np.argmax(q_values2[i])\n",
        "    op_intra_q2[state[3]][state[0],state[1]] = np.amax(q_values2[i])\n",
        "    ufd_intra_2[state[3]][state[0],state[1]] = np.sum(ufd2[i])\n"
      ],
      "metadata": {
        "id": "FuheQxrFhcIa"
      },
      "execution_count": null,
      "outputs": []
    },
    {
      "cell_type": "code",
      "source": [
        "def visualise_q(m1,m2):\n",
        "  fig, ax = plt.subplots(figsize = (10,10))\n",
        "  im = ax.imshow(m1, extent=[0, 10, 0, 10])\n",
        "  ax.grid(which='major', axis='both', linestyle='-', color='k', linewidth=2)\n",
        "  divider = make_axes_locatable(ax)\n",
        "  cax = divider.append_axes('right', size='5%', pad=0.05)\n",
        "  fig.colorbar(im, cax=cax, orientation='vertical')\n",
        "  def x_direct(a):\n",
        "    if a in [0,1,4,5,6,7,8]:\n",
        "        return 0\n",
        "    elif a in [2]:\n",
        "        return 1\n",
        "    else:\n",
        "        return -1\n",
        "  def y_direct(a):\n",
        "    if a in [2,3,4,5,6,7,8]:\n",
        "      return 0\n",
        "    elif a in [1]:\n",
        "        return 1\n",
        "    else:\n",
        "        return -1\n",
        "  policyx = np.vectorize(x_direct)(m2)\n",
        "  policyy = np.vectorize(y_direct)(m2)\n",
        "  idx = 2*np.indices((5,5))\n",
        "  ax.quiver(idx[1][::-1].ravel()+ 1, idx[0][::-1].ravel()+1, policyx.ravel(), policyy.ravel(), pivot=\"middle\", color='red')\n",
        "\n",
        "  for i in range(5):\n",
        "    for j in range(5):\n",
        "      if m2[i][j] == 4:  #pick-rectangle\n",
        "        #rect = patches.Rectangle((idx[1][::-1][i][j]+0.5, idx[0][::-1][i][j]+0.5), 1, 1, linewidth=0.5, edgecolor='r', facecolor='r')\n",
        "        #ax.add_patch(rect)\n",
        "        ax.text(idx[1][::-1][i][j]+0.6, idx[0][::-1][i][j]+0.6 ,'Pick',color = 'r', fontsize= 20)\n",
        "      if m2[i][j] == 5:  #drop-Circle\n",
        "        #circ = patches.Circle((idx[1][::-1][i][j]+1, idx[0][::-1][i][j]+1), 0.5, linewidth=0.5, edgecolor='r', facecolor='r')\n",
        "        #ax.add_patch(circ)\n",
        "        ax.text(idx[1][::-1][i][j]+0.6, idx[0][::-1][i][j]+0.6 ,'Drop',color = 'r', fontsize= 20)\n",
        "      if m2[i][j] == 6:\n",
        "        ax.text(idx[1][::-1][i][j]+0.9, idx[0][::-1][i][j]+0.9 ,'H',color = 'r', fontsize= 35)\n",
        "\n",
        "      if m2[i][j] == 7:\n",
        "        ax.text(idx[1][::-1][i][j]+0.9, idx[0][::-1][i][j]+0.9 ,'L',color = 'r', fontsize= 35)\n",
        "\n",
        "      if m2[i][j] == 8:\n",
        "        ax.text(idx[1][::-1][i][j]+0.9, idx[0][::-1][i][j]+0.9 ,'R',color = 'r', fontsize= 35)\n",
        "  \n",
        "  fig.tight_layout()\n",
        "  "
      ],
      "metadata": {
        "id": "tne6o0fbvfVy"
      },
      "execution_count": null,
      "outputs": []
    },
    {
      "cell_type": "code",
      "source": [
        "def freq_heat(m1):\n",
        "  fig, ax = plt.subplots(figsize = (10,10))\n",
        "  im = ax.imshow(m1, extent=[0, 10, 0, 10])\n",
        "  ax.grid(which='major', axis='both', linestyle='-', color='k', linewidth=2)\n",
        "  divider = make_axes_locatable(ax)\n",
        "  cax = divider.append_axes('right', size='5%', pad=0.05)\n",
        "  fig.colorbar(im, cax=cax, orientation='vertical')"
      ],
      "metadata": {
        "id": "B8Lb5m-xaTvi"
      },
      "execution_count": null,
      "outputs": []
    }
  ]
}